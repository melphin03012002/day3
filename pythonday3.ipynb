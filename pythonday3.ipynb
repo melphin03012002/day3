{
  "nbformat": 4,
  "nbformat_minor": 0,
  "metadata": {
    "colab": {
      "name": "pythonday3.ipynb",
      "provenance": [],
      "authorship_tag": "ABX9TyNYYMymCIJxSyqXWRkW5T/d",
      "include_colab_link": true
    },
    "kernelspec": {
      "name": "python3",
      "display_name": "Python 3"
    },
    "language_info": {
      "name": "python"
    }
  },
  "cells": [
    {
      "cell_type": "markdown",
      "metadata": {
        "id": "view-in-github",
        "colab_type": "text"
      },
      "source": [
        "<a href=\"https://colab.research.google.com/github/melphin03012002/day3/blob/main/pythonday3.ipynb\" target=\"_parent\"><img src=\"https://colab.research.google.com/assets/colab-badge.svg\" alt=\"Open In Colab\"/></a>"
      ]
    },
    {
      "cell_type": "code",
      "metadata": {
        "colab": {
          "base_uri": "https://localhost:8080/"
        },
        "id": "YnOoDcWwlMY9",
        "outputId": "89023d5e-f4cc-4ee2-cd8e-5cf3bb06ef12"
      },
      "source": [
        "import random\n",
        "import string\n",
        "\n",
        "id = ''\n",
        "characters_list = list(string.ascii_letters + string.digits)\n",
        "for i in range(6):\n",
        "  id += random.choice(characters_list)\n",
        "\n",
        "print(id)"
      ],
      "execution_count": 1,
      "outputs": [
        {
          "output_type": "stream",
          "text": [
            "Zx3BsX\n"
          ],
          "name": "stdout"
        }
      ]
    },
    {
      "cell_type": "code",
      "metadata": {
        "id": "Fm0mBOHFln-Z"
      },
      "source": [
        ""
      ],
      "execution_count": null,
      "outputs": []
    }
  ]
}